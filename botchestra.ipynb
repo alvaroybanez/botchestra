{
 "cells": [
  {
   "cell_type": "code",
   "execution_count": 1,
   "metadata": {},
   "outputs": [],
   "source": [
    "%run ./config.py"
   ]
  },
  {
   "cell_type": "code",
   "execution_count": 2,
   "metadata": {},
   "outputs": [],
   "source": [
    "import vectorbtpro as vbt \n",
    "import pandas as pd\n",
    "import numpy as np"
   ]
  },
  {
   "cell_type": "code",
   "execution_count": 4,
   "metadata": {},
   "outputs": [
    {
     "name": "stderr",
     "output_type": "stream",
     "text": [
      "2017-08-17 00:00:00+00:00 - 2022-05-04 00:00:00+00:00: : 4it [00:03,  1.09it/s]\n"
     ]
    },
    {
     "data": {
      "text/plain": [
       "<vectorbtpro.data.custom.BinanceData at 0x7fd37a07fd60>"
      ]
     },
     "execution_count": 4,
     "metadata": {},
     "output_type": "execute_result"
    }
   ],
   "source": [
    "data = vbt.BinanceData.fetch('BTCUSDT')\n",
    "data"
   ]
  },
  {
   "cell_type": "code",
   "execution_count": 6,
   "metadata": {},
   "outputs": [
    {
     "data": {
      "application/vnd.jupyter.widget-view+json": {
       "model_id": "235a53d7c6504c1eb47005ef52170fb2",
       "version_major": 2,
       "version_minor": 0
      },
      "text/plain": [
       "FigureWidget({\n",
       "    'data': [{'close': array([ 4285.08,  4108.37,  4139.98, ..., 38525.16, 37728.95, 38908.44])…"
      ]
     },
     "metadata": {},
     "output_type": "display_data"
    }
   ],
   "source": [
    "data.data['BTCUSDT'].vbt.ohlcv.plot()"
   ]
  },
  {
   "cell_type": "code",
   "execution_count": 8,
   "metadata": {},
   "outputs": [],
   "source": [
    "open_price = data.get('Open')\n",
    "close_price = data.get('Close')"
   ]
  },
  {
   "cell_type": "code",
   "execution_count": 10,
   "metadata": {},
   "outputs": [
    {
     "data": {
      "text/plain": [
       "vectorbtpro.indicators.custom.RSI"
      ]
     },
     "execution_count": 10,
     "metadata": {},
     "output_type": "execute_result"
    }
   ],
   "source": [
    "vbt.RSI"
   ]
  },
  {
   "cell_type": "code",
   "execution_count": 12,
   "metadata": {},
   "outputs": [
    {
     "data": {
      "text/plain": [
       "<vectorbtpro.indicators.custom.RSI at 0x7fd35a540d30>"
      ]
     },
     "execution_count": 12,
     "metadata": {},
     "output_type": "execute_result"
    }
   ],
   "source": [
    "rsi = vbt.RSI.run(open_price)\n",
    "rsi"
   ]
  },
  {
   "cell_type": "code",
   "execution_count": 13,
   "metadata": {},
   "outputs": [
    {
     "data": {
      "text/plain": [
       "Open time\n",
       "2017-08-17 00:00:00+00:00          NaN\n",
       "2017-08-18 00:00:00+00:00          NaN\n",
       "2017-08-19 00:00:00+00:00          NaN\n",
       "2017-08-20 00:00:00+00:00          NaN\n",
       "2017-08-21 00:00:00+00:00          NaN\n",
       "                               ...    \n",
       "2022-04-30 00:00:00+00:00    40.956913\n",
       "2022-05-01 00:00:00+00:00    38.161563\n",
       "2022-05-02 00:00:00+00:00    44.848929\n",
       "2022-05-03 00:00:00+00:00    39.341307\n",
       "2022-05-04 00:00:00+00:00    32.541829\n",
       "Freq: D, Name: Open, Length: 1722, dtype: float64"
      ]
     },
     "execution_count": 13,
     "metadata": {},
     "output_type": "execute_result"
    }
   ],
   "source": [
    "rsi.rsi"
   ]
  },
  {
   "cell_type": "code",
   "execution_count": 24,
   "metadata": {},
   "outputs": [
    {
     "data": {
      "text/plain": [
       "Open time\n",
       "2017-08-17 00:00:00+00:00    False\n",
       "2017-08-18 00:00:00+00:00    False\n",
       "2017-08-19 00:00:00+00:00    False\n",
       "2017-08-20 00:00:00+00:00    False\n",
       "2017-08-21 00:00:00+00:00    False\n",
       "                             ...  \n",
       "2022-04-30 00:00:00+00:00     True\n",
       "2022-05-01 00:00:00+00:00    False\n",
       "2022-05-02 00:00:00+00:00    False\n",
       "2022-05-03 00:00:00+00:00    False\n",
       "2022-05-04 00:00:00+00:00    False\n",
       "Freq: D, Name: Open, Length: 1722, dtype: bool"
      ]
     },
     "execution_count": 24,
     "metadata": {},
     "output_type": "execute_result"
    }
   ],
   "source": [
    "entries = rsi.rsi.vbt.crossed_below(45)\n",
    "entries"
   ]
  },
  {
   "cell_type": "code",
   "execution_count": 31,
   "metadata": {},
   "outputs": [
    {
     "data": {
      "text/plain": [
       "Open time\n",
       "2017-08-17 00:00:00+00:00    False\n",
       "2017-08-18 00:00:00+00:00    False\n",
       "2017-08-19 00:00:00+00:00    False\n",
       "2017-08-20 00:00:00+00:00    False\n",
       "2017-08-21 00:00:00+00:00    False\n",
       "                             ...  \n",
       "2022-04-30 00:00:00+00:00    False\n",
       "2022-05-01 00:00:00+00:00    False\n",
       "2022-05-02 00:00:00+00:00    False\n",
       "2022-05-03 00:00:00+00:00    False\n",
       "2022-05-04 00:00:00+00:00    False\n",
       "Freq: D, Name: Open, Length: 1722, dtype: bool"
      ]
     },
     "execution_count": 31,
     "metadata": {},
     "output_type": "execute_result"
    }
   ],
   "source": [
    "exits = rsi.rsi.vbt.crossed_above(80)\n",
    "exits"
   ]
  },
  {
   "cell_type": "code",
   "execution_count": 32,
   "metadata": {},
   "outputs": [
    {
     "data": {
      "application/vnd.jupyter.widget-view+json": {
       "model_id": "78ae724d3187468690610bb95837d629",
       "version_major": 2,
       "version_minor": 0
      },
      "text/plain": [
       "FigureWidget({\n",
       "    'data': [{'name': 'RSI',\n",
       "              'showlegend': True,\n",
       "              'type': 'scatter',…"
      ]
     },
     "metadata": {},
     "output_type": "display_data"
    }
   ],
   "source": [
    "def plot_rsi(rsi, entries, exits):\n",
    "    fig = rsi.plot()\n",
    "    entries.vbt.signals.plot_as_entry_markers(rsi.rsi, fig=fig)\n",
    "    exits.vbt.signals.plot_as_exit_markers(rsi.rsi, fig=fig)\n",
    "    return fig\n",
    "\n",
    "plot_rsi(rsi, entries, exits)"
   ]
  },
  {
   "cell_type": "code",
   "execution_count": 33,
   "metadata": {},
   "outputs": [
    {
     "data": {
      "application/vnd.jupyter.widget-view+json": {
       "model_id": "4426887cbed54f448cc01a209c6e5ec9",
       "version_major": 2,
       "version_minor": 0
      },
      "text/plain": [
       "FigureWidget({\n",
       "    'data': [{'name': 'RSI',\n",
       "              'showlegend': True,\n",
       "              'type': 'scatter',…"
      ]
     },
     "metadata": {},
     "output_type": "display_data"
    }
   ],
   "source": [
    "clean_entries, clean_exits = entries.vbt.signals.clean(exits)\n",
    "plot_rsi(rsi, clean_entries, clean_exits)"
   ]
  },
  {
   "cell_type": "code",
   "execution_count": 34,
   "metadata": {},
   "outputs": [
    {
     "data": {
      "text/plain": [
       "<vectorbtpro.portfolio.base.Portfolio at 0x7fd36056bac0>"
      ]
     },
     "execution_count": 34,
     "metadata": {},
     "output_type": "execute_result"
    }
   ],
   "source": [
    "pf = vbt.Portfolio.from_signals(\n",
    "    close=close_price,\n",
    "    entries=clean_entries,\n",
    "    exits=clean_exits,\n",
    "    size=100,\n",
    "    size_type='value',\n",
    "    init_cash='auto'\n",
    ")\n",
    "pf"
   ]
  },
  {
   "cell_type": "code",
   "execution_count": 35,
   "metadata": {},
   "outputs": [
    {
     "data": {
      "text/plain": [
       "Start                           2017-08-17 00:00:00+00:00\n",
       "End                             2022-05-04 00:00:00+00:00\n",
       "Period                                 1722 days 00:00:00\n",
       "Start Value                                    155.374289\n",
       "End Value                                      221.926347\n",
       "Total Return [%]                                42.833379\n",
       "Benchmark Return [%]                           807.997984\n",
       "Max Gross Exposure [%]                              100.0\n",
       "Total Fees Paid                                       0.0\n",
       "Max Drawdown [%]                                56.956887\n",
       "Max Drawdown Duration                  1128 days 00:00:00\n",
       "Total Trades                                           18\n",
       "Total Closed Trades                                    17\n",
       "Total Open Trades                                       1\n",
       "Open Trade PnL                                  -8.994557\n",
       "Win Rate [%]                                    58.823529\n",
       "Best Trade [%]                                   40.90205\n",
       "Worst Trade [%]                                -36.341501\n",
       "Avg Winning Trade [%]                           21.629339\n",
       "Avg Losing Trade [%]                           -20.106682\n",
       "Avg Winning Trade Duration               31 days 21:36:00\n",
       "Avg Losing Trade Duration     123 days 10:17:08.571428572\n",
       "Profit Factor                                    1.536756\n",
       "Expectancy                                       4.443918\n",
       "Sharpe Ratio                                     0.392198\n",
       "Calmar Ratio                                     0.137815\n",
       "Omega Ratio                                      1.080306\n",
       "Sortino Ratio                                    0.550758\n",
       "dtype: object"
      ]
     },
     "execution_count": 35,
     "metadata": {},
     "output_type": "execute_result"
    }
   ],
   "source": [
    "pf.stats()"
   ]
  },
  {
   "cell_type": "code",
   "execution_count": 36,
   "metadata": {},
   "outputs": [
    {
     "data": {
      "application/vnd.jupyter.widget-view+json": {
       "model_id": "68f8f8f50e884ecf926a04f5723965b2",
       "version_major": 2,
       "version_minor": 0
      },
      "text/plain": [
       "FigureWidget({\n",
       "    'data': [{'legendgroup': '0',\n",
       "              'line': {'color': '#1f77b4'},\n",
       "              'na…"
      ]
     },
     "metadata": {},
     "output_type": "display_data"
    }
   ],
   "source": [
    "pf.plot(settings=dict(bm_returns=False))"
   ]
  },
  {
   "cell_type": "code",
   "execution_count": null,
   "metadata": {},
   "outputs": [],
   "source": []
  }
 ],
 "metadata": {
  "interpreter": {
   "hash": "fff6e2bed6bd01e8b972f4fdd001524f82cacc9da63b2ec33fd842511402fd27"
  },
  "kernelspec": {
   "display_name": "Python 3.9.7 ('stockscreener')",
   "language": "python",
   "name": "python3"
  },
  "language_info": {
   "codemirror_mode": {
    "name": "ipython",
    "version": 3
   },
   "file_extension": ".py",
   "mimetype": "text/x-python",
   "name": "python",
   "nbconvert_exporter": "python",
   "pygments_lexer": "ipython3",
   "version": "3.9.7"
  },
  "orig_nbformat": 4
 },
 "nbformat": 4,
 "nbformat_minor": 2
}
