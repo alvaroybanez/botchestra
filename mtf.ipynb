{
 "cells": [
  {
   "cell_type": "code",
   "execution_count": 1,
   "metadata": {},
   "outputs": [],
   "source": [
    "%run ./config.py\n",
    "import vectorbtpro as vbt \n",
    "import pandas as pd\n",
    "import numpy as np"
   ]
  },
  {
   "cell_type": "code",
   "execution_count": 9,
   "metadata": {},
   "outputs": [
    {
     "data": {
      "application/vnd.jupyter.widget-view+json": {
       "model_id": "16131b00dd6745d0874ea46f3067dbe3",
       "version_major": 2,
       "version_minor": 0
      },
      "text/plain": [
       "0it [00:00, ?it/s]"
      ]
     },
     "metadata": {},
     "output_type": "display_data"
    }
   ],
   "source": [
    "h1_data = vbt.BinanceData.fetch(\n",
    "    'BNBUSDT',\n",
    "    start='2022-01-01 UTC',\n",
    "    end='TODAY',\n",
    "    timeframe='1h'\n",
    ")"
   ]
  },
  {
   "cell_type": "code",
   "execution_count": 10,
   "metadata": {},
   "outputs": [],
   "source": [
    "h1_data.to_hdf()"
   ]
  },
  {
   "cell_type": "code",
   "execution_count": 11,
   "metadata": {},
   "outputs": [],
   "source": [
    "h1_data = vbt.HDFData.fetch('BinanceData.h5')"
   ]
  },
  {
   "cell_type": "code",
   "execution_count": 12,
   "metadata": {},
   "outputs": [
    {
     "data": {
      "text/plain": [
       "DatetimeIndex(['2022-01-01 00:00:00+00:00', '2022-01-01 01:00:00+00:00',\n",
       "               '2022-01-01 02:00:00+00:00', '2022-01-01 03:00:00+00:00',\n",
       "               '2022-01-01 04:00:00+00:00', '2022-01-01 05:00:00+00:00',\n",
       "               '2022-01-01 06:00:00+00:00', '2022-01-01 07:00:00+00:00',\n",
       "               '2022-01-01 08:00:00+00:00', '2022-01-01 09:00:00+00:00',\n",
       "               ...\n",
       "               '2022-05-06 14:00:00+00:00', '2022-05-06 15:00:00+00:00',\n",
       "               '2022-05-06 16:00:00+00:00', '2022-05-06 17:00:00+00:00',\n",
       "               '2022-05-06 18:00:00+00:00', '2022-05-06 19:00:00+00:00',\n",
       "               '2022-05-06 20:00:00+00:00', '2022-05-06 21:00:00+00:00',\n",
       "               '2022-05-06 22:00:00+00:00', '2022-05-06 23:00:00+00:00'],\n",
       "              dtype='datetime64[ns, UTC]', name='Open time', length=3024, freq='H')"
      ]
     },
     "execution_count": 12,
     "metadata": {},
     "output_type": "execute_result"
    }
   ],
   "source": [
    "h1_data.wrapper.index"
   ]
  },
  {
   "cell_type": "code",
   "execution_count": 13,
   "metadata": {},
   "outputs": [
    {
     "data": {
      "text/plain": [
       "DatetimeIndex([], dtype='datetime64[ns, UTC]', name='Open time', freq=None)"
      ]
     },
     "execution_count": 13,
     "metadata": {},
     "output_type": "execute_result"
    }
   ],
   "source": [
    "h1_resampler = h1_data.wrapper.create_resampler('1h')\n",
    "h1_resampler.index_difference(reverse=True)"
   ]
  },
  {
   "cell_type": "code",
   "execution_count": 14,
   "metadata": {},
   "outputs": [
    {
     "data": {
      "text/plain": [
       "Index(['Open', 'High', 'Low', 'Close', 'Volume', 'Close time', 'Quote volume',\n",
       "       'Number of trades', 'Taker base volume', 'Taker quote volume'],\n",
       "      dtype='object')"
      ]
     },
     "execution_count": 14,
     "metadata": {},
     "output_type": "execute_result"
    }
   ],
   "source": [
    "h1_data.wrapper.columns"
   ]
  },
  {
   "cell_type": "code",
   "execution_count": 15,
   "metadata": {},
   "outputs": [],
   "source": [
    "h1_olcv_data = h1_data[['Open', 'High', 'Low', 'Close', 'Volume']]"
   ]
  },
  {
   "cell_type": "code",
   "execution_count": null,
   "metadata": {},
   "outputs": [],
   "source": [
    "h4_olcv = h1_olcv_data.get().resample('4h').agg({\n",
    "    'Open': 'first',\n",
    "    'High': 'max',\n",
    "    'Low': 'min',\n",
    "    'Close': 'last',\n",
    "    'Volume': 'sum'\n",
    "})"
   ]
  }
 ],
 "metadata": {
  "interpreter": {
   "hash": "6dd0864a17b171c5548114af6770eaad14a8e9888425146417af10b16f7b96f7"
  },
  "kernelspec": {
   "display_name": "Python 3.9.0 ('botchestra')",
   "language": "python",
   "name": "python3"
  },
  "language_info": {
   "codemirror_mode": {
    "name": "ipython",
    "version": 3
   },
   "file_extension": ".py",
   "mimetype": "text/x-python",
   "name": "python",
   "nbconvert_exporter": "python",
   "pygments_lexer": "ipython3",
   "version": "3.9.0"
  },
  "orig_nbformat": 4
 },
 "nbformat": 4,
 "nbformat_minor": 2
}
