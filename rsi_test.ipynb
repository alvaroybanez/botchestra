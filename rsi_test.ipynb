{
 "cells": [
  {
   "cell_type": "code",
   "execution_count": 88,
   "metadata": {},
   "outputs": [],
   "source": [
    "%run ./config.py\n",
    "import vectorbtpro as vbt \n",
    "import pandas as pd\n",
    "import numpy as np"
   ]
  },
  {
   "cell_type": "code",
   "execution_count": 89,
   "metadata": {},
   "outputs": [
    {
     "data": {
      "application/vnd.jupyter.widget-view+json": {
       "model_id": "e1b675b492c2417babe7706abebb44da",
       "version_major": 2,
       "version_minor": 0
      },
      "text/plain": [
       "0it [00:00, ?it/s]"
      ]
     },
     "metadata": {},
     "output_type": "display_data"
    },
    {
     "data": {
      "text/plain": [
       "<vectorbtpro.data.custom.BinanceData at 0x7fc65cb1f310>"
      ]
     },
     "execution_count": 89,
     "metadata": {},
     "output_type": "execute_result"
    }
   ],
   "source": [
    "data = vbt.BinanceData.fetch('LUNAUSDT')\n",
    "data"
   ]
  },
  {
   "cell_type": "code",
   "execution_count": 90,
   "metadata": {},
   "outputs": [
    {
     "data": {
      "application/vnd.jupyter.widget-view+json": {
       "model_id": "9845d70e9d2a4a50b44837bcacea1209",
       "version_major": 2,
       "version_minor": 0
      },
      "text/plain": [
       "FigureWidget({\n",
       "    'data': [{'close': array([ 0.4314,  0.4712,  0.4821, ..., 82.35  , 77.3   , 73.55  ]),\n",
       "    …"
      ]
     },
     "metadata": {},
     "output_type": "display_data"
    }
   ],
   "source": [
    "data.data['LUNAUSDT'].vbt.ohlcv.plot()"
   ]
  },
  {
   "cell_type": "code",
   "execution_count": 91,
   "metadata": {},
   "outputs": [],
   "source": [
    "open_price = data.get('Open')\n",
    "close_price = data.get('Close')"
   ]
  },
  {
   "cell_type": "code",
   "execution_count": 92,
   "metadata": {},
   "outputs": [
    {
     "data": {
      "text/plain": [
       "vectorbtpro.indicators.custom.RSI"
      ]
     },
     "execution_count": 92,
     "metadata": {},
     "output_type": "execute_result"
    }
   ],
   "source": [
    "vbt.RSI"
   ]
  },
  {
   "cell_type": "code",
   "execution_count": 93,
   "metadata": {},
   "outputs": [
    {
     "data": {
      "text/plain": [
       "<vectorbtpro.indicators.custom.RSI at 0x7fc65cb1f640>"
      ]
     },
     "execution_count": 93,
     "metadata": {},
     "output_type": "execute_result"
    }
   ],
   "source": [
    "rsi = vbt.RSI.run(open_price)\n",
    "rsi"
   ]
  },
  {
   "cell_type": "code",
   "execution_count": 94,
   "metadata": {},
   "outputs": [
    {
     "data": {
      "text/plain": [
       "Open time\n",
       "2020-08-21 00:00:00+00:00          NaN\n",
       "2020-08-22 00:00:00+00:00          NaN\n",
       "2020-08-23 00:00:00+00:00          NaN\n",
       "2020-08-24 00:00:00+00:00          NaN\n",
       "2020-08-25 00:00:00+00:00          NaN\n",
       "                               ...    \n",
       "2022-05-03 00:00:00+00:00    43.170927\n",
       "2022-05-04 00:00:00+00:00    36.346397\n",
       "2022-05-05 00:00:00+00:00    41.494845\n",
       "2022-05-06 00:00:00+00:00    41.593800\n",
       "2022-05-07 00:00:00+00:00    34.593465\n",
       "Freq: D, Name: Open, Length: 625, dtype: float64"
      ]
     },
     "execution_count": 94,
     "metadata": {},
     "output_type": "execute_result"
    }
   ],
   "source": [
    "rsi.rsi"
   ]
  },
  {
   "cell_type": "code",
   "execution_count": 95,
   "metadata": {},
   "outputs": [
    {
     "data": {
      "text/plain": [
       "Open time\n",
       "2020-08-21 00:00:00+00:00    False\n",
       "2020-08-22 00:00:00+00:00    False\n",
       "2020-08-23 00:00:00+00:00    False\n",
       "2020-08-24 00:00:00+00:00    False\n",
       "2020-08-25 00:00:00+00:00    False\n",
       "                             ...  \n",
       "2022-05-03 00:00:00+00:00     True\n",
       "2022-05-04 00:00:00+00:00    False\n",
       "2022-05-05 00:00:00+00:00    False\n",
       "2022-05-06 00:00:00+00:00    False\n",
       "2022-05-07 00:00:00+00:00    False\n",
       "Freq: D, Name: Open, Length: 625, dtype: bool"
      ]
     },
     "execution_count": 95,
     "metadata": {},
     "output_type": "execute_result"
    }
   ],
   "source": [
    "entries = rsi.rsi.vbt.crossed_below(45)\n",
    "entries"
   ]
  },
  {
   "cell_type": "code",
   "execution_count": 96,
   "metadata": {},
   "outputs": [
    {
     "data": {
      "text/plain": [
       "Open time\n",
       "2020-08-21 00:00:00+00:00    False\n",
       "2020-08-22 00:00:00+00:00    False\n",
       "2020-08-23 00:00:00+00:00    False\n",
       "2020-08-24 00:00:00+00:00    False\n",
       "2020-08-25 00:00:00+00:00    False\n",
       "                             ...  \n",
       "2022-05-03 00:00:00+00:00    False\n",
       "2022-05-04 00:00:00+00:00    False\n",
       "2022-05-05 00:00:00+00:00    False\n",
       "2022-05-06 00:00:00+00:00    False\n",
       "2022-05-07 00:00:00+00:00    False\n",
       "Freq: D, Name: Open, Length: 625, dtype: bool"
      ]
     },
     "execution_count": 96,
     "metadata": {},
     "output_type": "execute_result"
    }
   ],
   "source": [
    "exits = rsi.rsi.vbt.crossed_above(80)\n",
    "exits"
   ]
  },
  {
   "cell_type": "code",
   "execution_count": 97,
   "metadata": {},
   "outputs": [
    {
     "data": {
      "application/vnd.jupyter.widget-view+json": {
       "model_id": "42e6c9d8f54a4b77bf662b201d012f71",
       "version_major": 2,
       "version_minor": 0
      },
      "text/plain": [
       "FigureWidget({\n",
       "    'data': [{'name': 'RSI',\n",
       "              'showlegend': True,\n",
       "              'type': 'scatter',…"
      ]
     },
     "metadata": {},
     "output_type": "display_data"
    }
   ],
   "source": [
    "def plot_rsi(rsi, entries, exits):\n",
    "    fig = rsi.plot()\n",
    "    entries.vbt.signals.plot_as_entry_markers(rsi.rsi, fig=fig)\n",
    "    exits.vbt.signals.plot_as_exit_markers(rsi.rsi, fig=fig)\n",
    "    return fig\n",
    "\n",
    "plot_rsi(rsi, entries, exits)"
   ]
  },
  {
   "cell_type": "code",
   "execution_count": 98,
   "metadata": {},
   "outputs": [
    {
     "data": {
      "application/vnd.jupyter.widget-view+json": {
       "model_id": "f454ddb7f55b40c2be98ca9e68fb19a9",
       "version_major": 2,
       "version_minor": 0
      },
      "text/plain": [
       "FigureWidget({\n",
       "    'data': [{'name': 'RSI',\n",
       "              'showlegend': True,\n",
       "              'type': 'scatter',…"
      ]
     },
     "metadata": {},
     "output_type": "display_data"
    }
   ],
   "source": [
    "clean_entries, clean_exits = entries.vbt.signals.clean(exits)\n",
    "plot_rsi(rsi, clean_entries, clean_exits)"
   ]
  },
  {
   "cell_type": "code",
   "execution_count": 99,
   "metadata": {},
   "outputs": [
    {
     "data": {
      "text/plain": [
       "<vectorbtpro.portfolio.base.Portfolio at 0x7fc64ea4c4f0>"
      ]
     },
     "execution_count": 99,
     "metadata": {},
     "output_type": "execute_result"
    }
   ],
   "source": [
    "pf = vbt.Portfolio.from_signals(\n",
    "    close=close_price,\n",
    "    entries=clean_entries,\n",
    "    exits=clean_exits,\n",
    "    size=100,\n",
    "    size_type='value',\n",
    "    init_cash='auto'\n",
    ")\n",
    "pf"
   ]
  },
  {
   "cell_type": "code",
   "execution_count": 100,
   "metadata": {},
   "outputs": [
    {
     "data": {
      "text/plain": [
       "Start                         2020-08-21 00:00:00+00:00\n",
       "End                           2022-05-07 00:00:00+00:00\n",
       "Period                                625 days 00:00:00\n",
       "Start Value                                       100.0\n",
       "End Value                                    442.840596\n",
       "Total Return [%]                             342.840596\n",
       "Benchmark Return [%]                       16949.142327\n",
       "Max Gross Exposure [%]                            100.0\n",
       "Total Fees Paid                                     0.0\n",
       "Max Drawdown [%]                              36.788411\n",
       "Max Drawdown Duration                 171 days 00:00:00\n",
       "Total Trades                                          6\n",
       "Total Closed Trades                                   5\n",
       "Total Open Trades                                     1\n",
       "Open Trade PnL                               -18.630379\n",
       "Win Rate [%]                                       60.0\n",
       "Best Trade [%]                               295.786963\n",
       "Worst Trade [%]                              -38.614478\n",
       "Avg Winning Trade [%]                        135.844494\n",
       "Avg Losing Trade [%]                         -23.031254\n",
       "Avg Winning Trade Duration             58 days 16:00:00\n",
       "Avg Losing Trade Duration              84 days 12:00:00\n",
       "Profit Factor                                  8.847401\n",
       "Expectancy                                    72.294195\n",
       "Sharpe Ratio                                   1.840403\n",
       "Calmar Ratio                                    3.76358\n",
       "Omega Ratio                                    1.427814\n",
       "Sortino Ratio                                  3.076929\n",
       "dtype: object"
      ]
     },
     "execution_count": 100,
     "metadata": {},
     "output_type": "execute_result"
    }
   ],
   "source": [
    "pf.stats()"
   ]
  },
  {
   "cell_type": "code",
   "execution_count": 101,
   "metadata": {},
   "outputs": [
    {
     "data": {
      "application/vnd.jupyter.widget-view+json": {
       "model_id": "56fa0491fea444c1abeb09a6686f6045",
       "version_major": 2,
       "version_minor": 0
      },
      "text/plain": [
       "FigureWidget({\n",
       "    'data': [{'legendgroup': '0',\n",
       "              'line': {'color': '#1f77b4'},\n",
       "              'na…"
      ]
     },
     "metadata": {},
     "output_type": "display_data"
    }
   ],
   "source": [
    "pf.plot(settings=dict(bm_returns=False))"
   ]
  },
  {
   "cell_type": "markdown",
   "metadata": {},
   "source": [
    "## Multiple backtests"
   ]
  },
  {
   "cell_type": "code",
   "execution_count": 102,
   "metadata": {},
   "outputs": [
    {
     "data": {
      "text/plain": [
       "Total Return [%]     71.25359\n",
       "Total Trades                6\n",
       "Win Rate [%]             80.0\n",
       "Expectancy          16.564779\n",
       "dtype: object"
      ]
     },
     "execution_count": 102,
     "metadata": {},
     "output_type": "execute_result"
    }
   ],
   "source": [
    "def test_rsi(window=14, ewm=False, lower_th=30, upper_th=70):\n",
    "    rsi = vbt.RSI.run(open_price, window=window, ewm=ewm)\n",
    "    entries = rsi.rsi_crossed_below(lower_th)\n",
    "    exits = rsi.rsi_crossed_above(upper_th)\n",
    "    pf = vbt.Portfolio.from_signals(\n",
    "        close=close_price,\n",
    "        entries=entries,\n",
    "        exits=exits, \n",
    "        size=100,\n",
    "        size_type='value',\n",
    "        init_cash='auto')\n",
    "    return pf.stats([\n",
    "        'total_return',\n",
    "        'total_trades',\n",
    "        'win_rate',\n",
    "        'expectancy'\n",
    "    ])\n",
    "\n",
    "test_rsi()"
   ]
  },
  {
   "cell_type": "code",
   "execution_count": 103,
   "metadata": {},
   "outputs": [
    {
     "data": {
      "text/plain": [
       "Total Return [%]    -3.993737\n",
       "Total Trades                3\n",
       "Win Rate [%]        33.333333\n",
       "Expectancy          -1.351246\n",
       "dtype: object"
      ]
     },
     "execution_count": 103,
     "metadata": {},
     "output_type": "execute_result"
    }
   ],
   "source": [
    "test_rsi(lower_th=20, upper_th=80)"
   ]
  },
  {
   "cell_type": "code",
   "execution_count": 104,
   "metadata": {},
   "outputs": [],
   "source": [
    "from itertools import product"
   ]
  },
  {
   "cell_type": "code",
   "execution_count": 105,
   "metadata": {},
   "outputs": [
    {
     "data": {
      "text/plain": [
       "121"
      ]
     },
     "execution_count": 105,
     "metadata": {},
     "output_type": "execute_result"
    }
   ],
   "source": [
    "lower_ths = range(20, 31)\n",
    "upper_ths = range(70, 81)\n",
    "th_combs = list(product(lower_ths, upper_ths))\n",
    "len(th_combs)"
   ]
  },
  {
   "cell_type": "code",
   "execution_count": 106,
   "metadata": {},
   "outputs": [],
   "source": [
    "comb_stats = [\n",
    "    test_rsi(lower_th=lower_th, upper_th=upper_th)\n",
    "    for lower_th, upper_th in th_combs\n",
    "]"
   ]
  },
  {
   "cell_type": "code",
   "execution_count": 107,
   "metadata": {},
   "outputs": [
    {
     "data": {
      "text/html": [
       "<div>\n",
       "<style scoped>\n",
       "    .dataframe tbody tr th:only-of-type {\n",
       "        vertical-align: middle;\n",
       "    }\n",
       "\n",
       "    .dataframe tbody tr th {\n",
       "        vertical-align: top;\n",
       "    }\n",
       "\n",
       "    .dataframe thead th {\n",
       "        text-align: right;\n",
       "    }\n",
       "</style>\n",
       "<table border=\"1\" class=\"dataframe\">\n",
       "  <thead>\n",
       "    <tr style=\"text-align: right;\">\n",
       "      <th></th>\n",
       "      <th>Total Return [%]</th>\n",
       "      <th>Total Trades</th>\n",
       "      <th>Win Rate [%]</th>\n",
       "      <th>Expectancy</th>\n",
       "    </tr>\n",
       "  </thead>\n",
       "  <tbody>\n",
       "    <tr>\n",
       "      <th>0</th>\n",
       "      <td>25.013270</td>\n",
       "      <td>3</td>\n",
       "      <td>100.000000</td>\n",
       "      <td>8.337757</td>\n",
       "    </tr>\n",
       "    <tr>\n",
       "      <th>1</th>\n",
       "      <td>25.013270</td>\n",
       "      <td>3</td>\n",
       "      <td>100.000000</td>\n",
       "      <td>8.337757</td>\n",
       "    </tr>\n",
       "    <tr>\n",
       "      <th>2</th>\n",
       "      <td>25.013270</td>\n",
       "      <td>3</td>\n",
       "      <td>100.000000</td>\n",
       "      <td>8.337757</td>\n",
       "    </tr>\n",
       "    <tr>\n",
       "      <th>3</th>\n",
       "      <td>-25.995679</td>\n",
       "      <td>3</td>\n",
       "      <td>66.666667</td>\n",
       "      <td>-12.284551</td>\n",
       "    </tr>\n",
       "    <tr>\n",
       "      <th>4</th>\n",
       "      <td>-25.995679</td>\n",
       "      <td>3</td>\n",
       "      <td>66.666667</td>\n",
       "      <td>-12.284551</td>\n",
       "    </tr>\n",
       "    <tr>\n",
       "      <th>...</th>\n",
       "      <td>...</td>\n",
       "      <td>...</td>\n",
       "      <td>...</td>\n",
       "      <td>...</td>\n",
       "    </tr>\n",
       "    <tr>\n",
       "      <th>116</th>\n",
       "      <td>29.963134</td>\n",
       "      <td>5</td>\n",
       "      <td>75.000000</td>\n",
       "      <td>11.566600</td>\n",
       "    </tr>\n",
       "    <tr>\n",
       "      <th>117</th>\n",
       "      <td>52.108858</td>\n",
       "      <td>5</td>\n",
       "      <td>75.000000</td>\n",
       "      <td>16.613994</td>\n",
       "    </tr>\n",
       "    <tr>\n",
       "      <th>118</th>\n",
       "      <td>90.046711</td>\n",
       "      <td>5</td>\n",
       "      <td>75.000000</td>\n",
       "      <td>23.690587</td>\n",
       "    </tr>\n",
       "    <tr>\n",
       "      <th>119</th>\n",
       "      <td>166.256637</td>\n",
       "      <td>5</td>\n",
       "      <td>75.000000</td>\n",
       "      <td>42.743069</td>\n",
       "    </tr>\n",
       "    <tr>\n",
       "      <th>120</th>\n",
       "      <td>169.624444</td>\n",
       "      <td>5</td>\n",
       "      <td>75.000000</td>\n",
       "      <td>43.585020</td>\n",
       "    </tr>\n",
       "  </tbody>\n",
       "</table>\n",
       "<p>121 rows × 4 columns</p>\n",
       "</div>"
      ],
      "text/plain": [
       "     Total Return [%]  Total Trades  Win Rate [%]  Expectancy\n",
       "0           25.013270             3    100.000000    8.337757\n",
       "1           25.013270             3    100.000000    8.337757\n",
       "2           25.013270             3    100.000000    8.337757\n",
       "3          -25.995679             3     66.666667  -12.284551\n",
       "4          -25.995679             3     66.666667  -12.284551\n",
       "..                ...           ...           ...         ...\n",
       "116         29.963134             5     75.000000   11.566600\n",
       "117         52.108858             5     75.000000   16.613994\n",
       "118         90.046711             5     75.000000   23.690587\n",
       "119        166.256637             5     75.000000   42.743069\n",
       "120        169.624444             5     75.000000   43.585020\n",
       "\n",
       "[121 rows x 4 columns]"
      ]
     },
     "execution_count": 107,
     "metadata": {},
     "output_type": "execute_result"
    }
   ],
   "source": [
    "comb_stats_df = pd.DataFrame(comb_stats)\n",
    "comb_stats_df"
   ]
  },
  {
   "cell_type": "code",
   "execution_count": 108,
   "metadata": {},
   "outputs": [
    {
     "data": {
      "text/html": [
       "<div>\n",
       "<style scoped>\n",
       "    .dataframe tbody tr th:only-of-type {\n",
       "        vertical-align: middle;\n",
       "    }\n",
       "\n",
       "    .dataframe tbody tr th {\n",
       "        vertical-align: top;\n",
       "    }\n",
       "\n",
       "    .dataframe thead th {\n",
       "        text-align: right;\n",
       "    }\n",
       "</style>\n",
       "<table border=\"1\" class=\"dataframe\">\n",
       "  <thead>\n",
       "    <tr style=\"text-align: right;\">\n",
       "      <th></th>\n",
       "      <th></th>\n",
       "      <th>Total Return [%]</th>\n",
       "      <th>Total Trades</th>\n",
       "      <th>Win Rate [%]</th>\n",
       "      <th>Expectancy</th>\n",
       "    </tr>\n",
       "    <tr>\n",
       "      <th>lower_th</th>\n",
       "      <th>upper_th</th>\n",
       "      <th></th>\n",
       "      <th></th>\n",
       "      <th></th>\n",
       "      <th></th>\n",
       "    </tr>\n",
       "  </thead>\n",
       "  <tbody>\n",
       "    <tr>\n",
       "      <th rowspan=\"5\" valign=\"top\">20</th>\n",
       "      <th>70</th>\n",
       "      <td>25.013270</td>\n",
       "      <td>3</td>\n",
       "      <td>100.000000</td>\n",
       "      <td>8.337757</td>\n",
       "    </tr>\n",
       "    <tr>\n",
       "      <th>71</th>\n",
       "      <td>25.013270</td>\n",
       "      <td>3</td>\n",
       "      <td>100.000000</td>\n",
       "      <td>8.337757</td>\n",
       "    </tr>\n",
       "    <tr>\n",
       "      <th>72</th>\n",
       "      <td>25.013270</td>\n",
       "      <td>3</td>\n",
       "      <td>100.000000</td>\n",
       "      <td>8.337757</td>\n",
       "    </tr>\n",
       "    <tr>\n",
       "      <th>73</th>\n",
       "      <td>-25.995679</td>\n",
       "      <td>3</td>\n",
       "      <td>66.666667</td>\n",
       "      <td>-12.284551</td>\n",
       "    </tr>\n",
       "    <tr>\n",
       "      <th>74</th>\n",
       "      <td>-25.995679</td>\n",
       "      <td>3</td>\n",
       "      <td>66.666667</td>\n",
       "      <td>-12.284551</td>\n",
       "    </tr>\n",
       "    <tr>\n",
       "      <th>...</th>\n",
       "      <th>...</th>\n",
       "      <td>...</td>\n",
       "      <td>...</td>\n",
       "      <td>...</td>\n",
       "      <td>...</td>\n",
       "    </tr>\n",
       "    <tr>\n",
       "      <th rowspan=\"5\" valign=\"top\">30</th>\n",
       "      <th>76</th>\n",
       "      <td>29.963134</td>\n",
       "      <td>5</td>\n",
       "      <td>75.000000</td>\n",
       "      <td>11.566600</td>\n",
       "    </tr>\n",
       "    <tr>\n",
       "      <th>77</th>\n",
       "      <td>52.108858</td>\n",
       "      <td>5</td>\n",
       "      <td>75.000000</td>\n",
       "      <td>16.613994</td>\n",
       "    </tr>\n",
       "    <tr>\n",
       "      <th>78</th>\n",
       "      <td>90.046711</td>\n",
       "      <td>5</td>\n",
       "      <td>75.000000</td>\n",
       "      <td>23.690587</td>\n",
       "    </tr>\n",
       "    <tr>\n",
       "      <th>79</th>\n",
       "      <td>166.256637</td>\n",
       "      <td>5</td>\n",
       "      <td>75.000000</td>\n",
       "      <td>42.743069</td>\n",
       "    </tr>\n",
       "    <tr>\n",
       "      <th>80</th>\n",
       "      <td>169.624444</td>\n",
       "      <td>5</td>\n",
       "      <td>75.000000</td>\n",
       "      <td>43.585020</td>\n",
       "    </tr>\n",
       "  </tbody>\n",
       "</table>\n",
       "<p>121 rows × 4 columns</p>\n",
       "</div>"
      ],
      "text/plain": [
       "                   Total Return [%]  Total Trades  Win Rate [%]  Expectancy\n",
       "lower_th upper_th                                                          \n",
       "20       70               25.013270             3    100.000000    8.337757\n",
       "         71               25.013270             3    100.000000    8.337757\n",
       "         72               25.013270             3    100.000000    8.337757\n",
       "         73              -25.995679             3     66.666667  -12.284551\n",
       "         74              -25.995679             3     66.666667  -12.284551\n",
       "...                             ...           ...           ...         ...\n",
       "30       76               29.963134             5     75.000000   11.566600\n",
       "         77               52.108858             5     75.000000   16.613994\n",
       "         78               90.046711             5     75.000000   23.690587\n",
       "         79              166.256637             5     75.000000   42.743069\n",
       "         80              169.624444             5     75.000000   43.585020\n",
       "\n",
       "[121 rows x 4 columns]"
      ]
     },
     "execution_count": 108,
     "metadata": {},
     "output_type": "execute_result"
    }
   ],
   "source": [
    "comb_stats_df.index = pd.MultiIndex.from_tuples(\n",
    "    th_combs, \n",
    "    names=['lower_th', 'upper_th']\n",
    ")\n",
    "comb_stats_df"
   ]
  },
  {
   "cell_type": "code",
   "execution_count": 109,
   "metadata": {},
   "outputs": [
    {
     "data": {
      "application/vnd.jupyter.widget-view+json": {
       "model_id": "50dbc027f9154dad833db9cc8aec09c3",
       "version_major": 2,
       "version_minor": 0
      },
      "text/plain": [
       "FigureWidget({\n",
       "    'data': [{'colorscale': [[0.0, '#0d0887'], [0.1111111111111111, '#46039f'],\n",
       "               …"
      ]
     },
     "metadata": {},
     "output_type": "display_data"
    }
   ],
   "source": [
    "comb_stats_df['Expectancy'].vbt.heatmap()"
   ]
  },
  {
   "cell_type": "code",
   "execution_count": 110,
   "metadata": {},
   "outputs": [],
   "source": [
    "windows = list(range(8, 21))\n",
    "ewms = [False, True]"
   ]
  },
  {
   "cell_type": "code",
   "execution_count": 111,
   "metadata": {},
   "outputs": [
    {
     "data": {
      "text/plain": [
       "MultiIndex([( 8, False),\n",
       "            ( 8,  True),\n",
       "            ( 9, False),\n",
       "            ( 9,  True),\n",
       "            (10, False),\n",
       "            (10,  True),\n",
       "            (11, False),\n",
       "            (11,  True),\n",
       "            (12, False),\n",
       "            (12,  True),\n",
       "            (13, False),\n",
       "            (13,  True),\n",
       "            (14, False),\n",
       "            (14,  True),\n",
       "            (15, False),\n",
       "            (15,  True),\n",
       "            (16, False),\n",
       "            (16,  True),\n",
       "            (17, False),\n",
       "            (17,  True),\n",
       "            (18, False),\n",
       "            (18,  True),\n",
       "            (19, False),\n",
       "            (19,  True),\n",
       "            (20, False),\n",
       "            (20,  True)],\n",
       "           names=['rsi_window', 'rsi_ewm'])"
      ]
     },
     "execution_count": 111,
     "metadata": {},
     "output_type": "execute_result"
    }
   ],
   "source": [
    "rsi = vbt.RSI.run(\n",
    "    open_price,\n",
    "    window=windows,\n",
    "    ewm=ewms,\n",
    "    param_product=True)\n",
    "rsi.rsi.columns"
   ]
  },
  {
   "cell_type": "code",
   "execution_count": 112,
   "metadata": {},
   "outputs": [],
   "source": [
    "lower_ths_prod, upper_ths_prod = zip(*product(lower_ths, upper_ths))"
   ]
  },
  {
   "cell_type": "code",
   "execution_count": 113,
   "metadata": {},
   "outputs": [
    {
     "data": {
      "text/plain": [
       "121"
      ]
     },
     "execution_count": 113,
     "metadata": {},
     "output_type": "execute_result"
    }
   ],
   "source": [
    "len(lower_ths_prod)"
   ]
  },
  {
   "cell_type": "code",
   "execution_count": 114,
   "metadata": {},
   "outputs": [
    {
     "data": {
      "text/plain": [
       "121"
      ]
     },
     "execution_count": 114,
     "metadata": {},
     "output_type": "execute_result"
    }
   ],
   "source": [
    "len(upper_ths_prod)"
   ]
  },
  {
   "cell_type": "code",
   "execution_count": 115,
   "metadata": {},
   "outputs": [
    {
     "data": {
      "text/plain": [
       "MultiIndex([(20,  8, False),\n",
       "            (20,  8,  True),\n",
       "            (20,  9, False),\n",
       "            (20,  9,  True),\n",
       "            (20, 10, False),\n",
       "            (20, 10,  True),\n",
       "            (20, 11, False),\n",
       "            (20, 11,  True),\n",
       "            (20, 12, False),\n",
       "            (20, 12,  True),\n",
       "            ...\n",
       "            (30, 16, False),\n",
       "            (30, 16,  True),\n",
       "            (30, 17, False),\n",
       "            (30, 17,  True),\n",
       "            (30, 18, False),\n",
       "            (30, 18,  True),\n",
       "            (30, 19, False),\n",
       "            (30, 19,  True),\n",
       "            (30, 20, False),\n",
       "            (30, 20,  True)],\n",
       "           names=['lower_th', 'rsi_window', 'rsi_ewm'], length=3146)"
      ]
     },
     "execution_count": 115,
     "metadata": {},
     "output_type": "execute_result"
    }
   ],
   "source": [
    "lower_th_index = pd.Index(lower_ths_prod, name = 'lower_th')\n",
    "entries = rsi.rsi_crossed_below(lower_th_index)\n",
    "entries.columns"
   ]
  },
  {
   "cell_type": "code",
   "execution_count": 116,
   "metadata": {},
   "outputs": [
    {
     "data": {
      "text/plain": [
       "MultiIndex([(70,  8, False),\n",
       "            (70,  8,  True),\n",
       "            (70,  9, False),\n",
       "            (70,  9,  True),\n",
       "            (70, 10, False),\n",
       "            (70, 10,  True),\n",
       "            (70, 11, False),\n",
       "            (70, 11,  True),\n",
       "            (70, 12, False),\n",
       "            (70, 12,  True),\n",
       "            ...\n",
       "            (80, 16, False),\n",
       "            (80, 16,  True),\n",
       "            (80, 17, False),\n",
       "            (80, 17,  True),\n",
       "            (80, 18, False),\n",
       "            (80, 18,  True),\n",
       "            (80, 19, False),\n",
       "            (80, 19,  True),\n",
       "            (80, 20, False),\n",
       "            (80, 20,  True)],\n",
       "           names=['upper_th', 'rsi_window', 'rsi_ewm'], length=3146)"
      ]
     },
     "execution_count": 116,
     "metadata": {},
     "output_type": "execute_result"
    }
   ],
   "source": [
    "upper_th_index = pd.Index(upper_ths_prod, name='upper_th')\n",
    "exits = rsi.rsi_crossed_above(upper_th_index)\n",
    "exits.columns"
   ]
  },
  {
   "cell_type": "code",
   "execution_count": 117,
   "metadata": {},
   "outputs": [
    {
     "data": {
      "text/plain": [
       "<vectorbtpro.portfolio.base.Portfolio at 0x7fc66133da00>"
      ]
     },
     "execution_count": 117,
     "metadata": {},
     "output_type": "execute_result"
    }
   ],
   "source": [
    "pf = vbt.Portfolio.from_signals(\n",
    "    close=close_price,\n",
    "    entries=entries,\n",
    "    exits=exits,\n",
    "    size=100,\n",
    "    size_type='value',\n",
    "    init_cash='auto'\n",
    ")\n",
    "pf"
   ]
  },
  {
   "cell_type": "code",
   "execution_count": 118,
   "metadata": {},
   "outputs": [
    {
     "data": {
      "text/html": [
       "<div>\n",
       "<style scoped>\n",
       "    .dataframe tbody tr th:only-of-type {\n",
       "        vertical-align: middle;\n",
       "    }\n",
       "\n",
       "    .dataframe tbody tr th {\n",
       "        vertical-align: top;\n",
       "    }\n",
       "\n",
       "    .dataframe thead th {\n",
       "        text-align: right;\n",
       "    }\n",
       "</style>\n",
       "<table border=\"1\" class=\"dataframe\">\n",
       "  <thead>\n",
       "    <tr style=\"text-align: right;\">\n",
       "      <th></th>\n",
       "      <th></th>\n",
       "      <th></th>\n",
       "      <th></th>\n",
       "      <th>Total Return [%]</th>\n",
       "      <th>Total Trades</th>\n",
       "      <th>Win Rate [%]</th>\n",
       "      <th>Expectancy</th>\n",
       "    </tr>\n",
       "    <tr>\n",
       "      <th>lower_th</th>\n",
       "      <th>upper_th</th>\n",
       "      <th>rsi_window</th>\n",
       "      <th>rsi_ewm</th>\n",
       "      <th></th>\n",
       "      <th></th>\n",
       "      <th></th>\n",
       "      <th></th>\n",
       "    </tr>\n",
       "  </thead>\n",
       "  <tbody>\n",
       "    <tr>\n",
       "      <th rowspan=\"5\" valign=\"top\">20</th>\n",
       "      <th rowspan=\"5\" valign=\"top\">70</th>\n",
       "      <th rowspan=\"2\" valign=\"top\">8</th>\n",
       "      <th>False</th>\n",
       "      <td>209.058672</td>\n",
       "      <td>10</td>\n",
       "      <td>100.000000</td>\n",
       "      <td>20.905867</td>\n",
       "    </tr>\n",
       "    <tr>\n",
       "      <th>True</th>\n",
       "      <td>69.176727</td>\n",
       "      <td>10</td>\n",
       "      <td>66.666667</td>\n",
       "      <td>10.808664</td>\n",
       "    </tr>\n",
       "    <tr>\n",
       "      <th rowspan=\"2\" valign=\"top\">9</th>\n",
       "      <th>False</th>\n",
       "      <td>147.541091</td>\n",
       "      <td>9</td>\n",
       "      <td>87.500000</td>\n",
       "      <td>20.547872</td>\n",
       "    </tr>\n",
       "    <tr>\n",
       "      <th>True</th>\n",
       "      <td>1.383751</td>\n",
       "      <td>7</td>\n",
       "      <td>50.000000</td>\n",
       "      <td>2.515171</td>\n",
       "    </tr>\n",
       "    <tr>\n",
       "      <th>10</th>\n",
       "      <th>False</th>\n",
       "      <td>170.047061</td>\n",
       "      <td>8</td>\n",
       "      <td>100.000000</td>\n",
       "      <td>26.627352</td>\n",
       "    </tr>\n",
       "    <tr>\n",
       "      <th>...</th>\n",
       "      <th>...</th>\n",
       "      <th>...</th>\n",
       "      <th>...</th>\n",
       "      <td>...</td>\n",
       "      <td>...</td>\n",
       "      <td>...</td>\n",
       "      <td>...</td>\n",
       "    </tr>\n",
       "    <tr>\n",
       "      <th rowspan=\"5\" valign=\"top\">30</th>\n",
       "      <th rowspan=\"5\" valign=\"top\">80</th>\n",
       "      <th>18</th>\n",
       "      <th>True</th>\n",
       "      <td>10.278271</td>\n",
       "      <td>3</td>\n",
       "      <td>33.333333</td>\n",
       "      <td>3.426090</td>\n",
       "    </tr>\n",
       "    <tr>\n",
       "      <th rowspan=\"2\" valign=\"top\">19</th>\n",
       "      <th>False</th>\n",
       "      <td>202.701389</td>\n",
       "      <td>3</td>\n",
       "      <td>50.000000</td>\n",
       "      <td>79.468364</td>\n",
       "    </tr>\n",
       "    <tr>\n",
       "      <th>True</th>\n",
       "      <td>94.849964</td>\n",
       "      <td>3</td>\n",
       "      <td>100.000000</td>\n",
       "      <td>24.444232</td>\n",
       "    </tr>\n",
       "    <tr>\n",
       "      <th rowspan=\"2\" valign=\"top\">20</th>\n",
       "      <th>False</th>\n",
       "      <td>56.123726</td>\n",
       "      <td>3</td>\n",
       "      <td>50.000000</td>\n",
       "      <td>11.633034</td>\n",
       "    </tr>\n",
       "    <tr>\n",
       "      <th>True</th>\n",
       "      <td>93.274015</td>\n",
       "      <td>3</td>\n",
       "      <td>100.000000</td>\n",
       "      <td>24.444232</td>\n",
       "    </tr>\n",
       "  </tbody>\n",
       "</table>\n",
       "<p>3146 rows × 4 columns</p>\n",
       "</div>"
      ],
      "text/plain": [
       "                                      Total Return [%]  Total Trades  \\\n",
       "lower_th upper_th rsi_window rsi_ewm                                   \n",
       "20       70       8          False          209.058672            10   \n",
       "                             True            69.176727            10   \n",
       "                  9          False          147.541091             9   \n",
       "                             True             1.383751             7   \n",
       "                  10         False          170.047061             8   \n",
       "...                                                ...           ...   \n",
       "30       80       18         True            10.278271             3   \n",
       "                  19         False          202.701389             3   \n",
       "                             True            94.849964             3   \n",
       "                  20         False           56.123726             3   \n",
       "                             True            93.274015             3   \n",
       "\n",
       "                                      Win Rate [%]  Expectancy  \n",
       "lower_th upper_th rsi_window rsi_ewm                            \n",
       "20       70       8          False      100.000000   20.905867  \n",
       "                             True        66.666667   10.808664  \n",
       "                  9          False       87.500000   20.547872  \n",
       "                             True        50.000000    2.515171  \n",
       "                  10         False      100.000000   26.627352  \n",
       "...                                            ...         ...  \n",
       "30       80       18         True        33.333333    3.426090  \n",
       "                  19         False       50.000000   79.468364  \n",
       "                             True       100.000000   24.444232  \n",
       "                  20         False       50.000000   11.633034  \n",
       "                             True       100.000000   24.444232  \n",
       "\n",
       "[3146 rows x 4 columns]"
      ]
     },
     "execution_count": 118,
     "metadata": {},
     "output_type": "execute_result"
    }
   ],
   "source": [
    "stats_df = pf.stats([\n",
    "    'total_return',\n",
    "    'total_trades',\n",
    "    'win_rate',\n",
    "    'expectancy'\n",
    "], agg_func=None)\n",
    "stats_df"
   ]
  },
  {
   "cell_type": "code",
   "execution_count": 119,
   "metadata": {},
   "outputs": [
    {
     "name": "stdout",
     "output_type": "stream",
     "text": [
      "1.7 MB\n"
     ]
    }
   ],
   "source": [
    "print(pf.getsize())"
   ]
  },
  {
   "cell_type": "code",
   "execution_count": 120,
   "metadata": {},
   "outputs": [
    {
     "data": {
      "text/plain": [
       "rsi_window\n",
       "8     16.055972\n",
       "9     22.466409\n",
       "10    22.081139\n",
       "11    18.173139\n",
       "12     9.396657\n",
       "13    14.595109\n",
       "14    15.734080\n",
       "15    17.772601\n",
       "16    10.038102\n",
       "17    21.494165\n",
       "18    33.053151\n",
       "19    42.212036\n",
       "20    33.901230\n",
       "Name: Expectancy, dtype: float64"
      ]
     },
     "execution_count": 120,
     "metadata": {},
     "output_type": "execute_result"
    }
   ],
   "source": [
    "stats_df['Expectancy'].groupby('rsi_window').mean()\n"
   ]
  },
  {
   "cell_type": "code",
   "execution_count": 121,
   "metadata": {},
   "outputs": [
    {
     "data": {
      "text/html": [
       "<div>\n",
       "<style scoped>\n",
       "    .dataframe tbody tr th:only-of-type {\n",
       "        vertical-align: middle;\n",
       "    }\n",
       "\n",
       "    .dataframe tbody tr th {\n",
       "        vertical-align: top;\n",
       "    }\n",
       "\n",
       "    .dataframe thead th {\n",
       "        text-align: right;\n",
       "    }\n",
       "</style>\n",
       "<table border=\"1\" class=\"dataframe\">\n",
       "  <thead>\n",
       "    <tr style=\"text-align: right;\">\n",
       "      <th></th>\n",
       "      <th></th>\n",
       "      <th></th>\n",
       "      <th></th>\n",
       "      <th>Total Return [%]</th>\n",
       "      <th>Total Trades</th>\n",
       "      <th>Win Rate [%]</th>\n",
       "      <th>Expectancy</th>\n",
       "    </tr>\n",
       "    <tr>\n",
       "      <th>lower_th</th>\n",
       "      <th>upper_th</th>\n",
       "      <th>rsi_window</th>\n",
       "      <th>rsi_ewm</th>\n",
       "      <th></th>\n",
       "      <th></th>\n",
       "      <th></th>\n",
       "      <th></th>\n",
       "    </tr>\n",
       "  </thead>\n",
       "  <tbody>\n",
       "    <tr>\n",
       "      <th rowspan=\"3\" valign=\"top\">29</th>\n",
       "      <th rowspan=\"2\" valign=\"top\">70</th>\n",
       "      <th rowspan=\"2\" valign=\"top\">8</th>\n",
       "      <th>False</th>\n",
       "      <td>149.600665</td>\n",
       "      <td>15</td>\n",
       "      <td>78.571429</td>\n",
       "      <td>14.289251</td>\n",
       "    </tr>\n",
       "    <tr>\n",
       "      <th>True</th>\n",
       "      <td>119.730183</td>\n",
       "      <td>15</td>\n",
       "      <td>78.571429</td>\n",
       "      <td>12.653711</td>\n",
       "    </tr>\n",
       "    <tr>\n",
       "      <th>71</th>\n",
       "      <th>8</th>\n",
       "      <th>True</th>\n",
       "      <td>119.730183</td>\n",
       "      <td>15</td>\n",
       "      <td>78.571429</td>\n",
       "      <td>12.653711</td>\n",
       "    </tr>\n",
       "    <tr>\n",
       "      <th rowspan=\"2\" valign=\"top\">30</th>\n",
       "      <th>71</th>\n",
       "      <th>8</th>\n",
       "      <th>True</th>\n",
       "      <td>87.521117</td>\n",
       "      <td>15</td>\n",
       "      <td>78.571429</td>\n",
       "      <td>11.144653</td>\n",
       "    </tr>\n",
       "    <tr>\n",
       "      <th>70</th>\n",
       "      <th>8</th>\n",
       "      <th>False</th>\n",
       "      <td>121.902980</td>\n",
       "      <td>15</td>\n",
       "      <td>71.428571</td>\n",
       "      <td>11.783276</td>\n",
       "    </tr>\n",
       "  </tbody>\n",
       "</table>\n",
       "</div>"
      ],
      "text/plain": [
       "                                      Total Return [%]  Total Trades  \\\n",
       "lower_th upper_th rsi_window rsi_ewm                                   \n",
       "29       70       8          False          149.600665            15   \n",
       "                             True           119.730183            15   \n",
       "         71       8          True           119.730183            15   \n",
       "30       71       8          True            87.521117            15   \n",
       "         70       8          False          121.902980            15   \n",
       "\n",
       "                                      Win Rate [%]  Expectancy  \n",
       "lower_th upper_th rsi_window rsi_ewm                            \n",
       "29       70       8          False       78.571429   14.289251  \n",
       "                             True        78.571429   12.653711  \n",
       "         71       8          True        78.571429   12.653711  \n",
       "30       71       8          True        78.571429   11.144653  \n",
       "         70       8          False       71.428571   11.783276  "
      ]
     },
     "execution_count": 121,
     "metadata": {},
     "output_type": "execute_result"
    }
   ],
   "source": [
    "stats_df.sort_values(by='Total Trades', ascending=False).head()"
   ]
  },
  {
   "cell_type": "code",
   "execution_count": 122,
   "metadata": {},
   "outputs": [
    {
     "data": {
      "application/vnd.jupyter.widget-view+json": {
       "model_id": "0930b428f790433ea83e6d45bf52e3d4",
       "version_major": 2,
       "version_minor": 0
      },
      "text/plain": [
       "FigureWidget({\n",
       "    'data': [{'hoverinfo': 'skip',\n",
       "              'line': {'color': 'rgba(0, 0, 0, 0)', 'width':…"
      ]
     },
     "metadata": {},
     "output_type": "display_data"
    }
   ],
   "source": [
    "pf[(29, 71, 8, True)].plot_value()"
   ]
  },
  {
   "cell_type": "code",
   "execution_count": 132,
   "metadata": {},
   "outputs": [
    {
     "data": {
      "application/vnd.jupyter.widget-view+json": {
       "model_id": "28394758ad60435c994ebd444355f479",
       "version_major": 2,
       "version_minor": 0
      },
      "text/plain": [
       "  0%|          | 0/2 [00:00<?, ?it/s]"
      ]
     },
     "metadata": {},
     "output_type": "display_data"
    },
    {
     "data": {
      "application/vnd.jupyter.widget-view+json": {
       "model_id": "67f8a8765e8d4e929cc78105be8d9e30",
       "version_major": 2,
       "version_minor": 0
      },
      "text/plain": [
       "0it [00:00, ?it/s]"
      ]
     },
     "metadata": {},
     "output_type": "display_data"
    },
    {
     "data": {
      "application/vnd.jupyter.widget-view+json": {
       "model_id": "d4e98746a4eb458b8a081dbe71614d3c",
       "version_major": 2,
       "version_minor": 0
      },
      "text/plain": [
       "0it [00:00, ?it/s]"
      ]
     },
     "metadata": {},
     "output_type": "display_data"
    },
    {
     "data": {
      "application/vnd.jupyter.widget-view+json": {
       "model_id": "41b4fe1258774496b8a4ade64ddc3cbd",
       "version_major": 2,
       "version_minor": 0
      },
      "text/plain": [
       "FigureWidget({\n",
       "    'data': [{'name': 'BTCUSDT',\n",
       "              'showlegend': True,\n",
       "              'type': 'scatt…"
      ]
     },
     "metadata": {},
     "output_type": "display_data"
    }
   ],
   "source": [
    "data = vbt.BinanceData.fetch(['BTCUSDT', 'ETHUSDT'])\n",
    "data['Close'].get().vbt.rebase(100).vbt.plot()"
   ]
  },
  {
   "cell_type": "code",
   "execution_count": 133,
   "metadata": {},
   "outputs": [
    {
     "ename": "KeyError",
     "evalue": "'Level symbol not found'",
     "output_type": "error",
     "traceback": [
      "\u001b[0;31m---------------------------------------------------------------------------\u001b[0m",
      "\u001b[0;31mValueError\u001b[0m                                Traceback (most recent call last)",
      "File \u001b[0;32m~/opt/anaconda3/envs/botchestra/lib/python3.9/site-packages/pandas/core/indexes/multi.py:1529\u001b[0m, in \u001b[0;36mMultiIndex._get_level_number\u001b[0;34m(self, level)\u001b[0m\n\u001b[1;32m   <a href='file:///Users/alvaroybanez/opt/anaconda3/envs/botchestra/lib/python3.9/site-packages/pandas/core/indexes/multi.py?line=1527'>1528</a>\u001b[0m \u001b[39mtry\u001b[39;00m:\n\u001b[0;32m-> <a href='file:///Users/alvaroybanez/opt/anaconda3/envs/botchestra/lib/python3.9/site-packages/pandas/core/indexes/multi.py?line=1528'>1529</a>\u001b[0m     level \u001b[39m=\u001b[39m \u001b[39mself\u001b[39;49m\u001b[39m.\u001b[39;49mnames\u001b[39m.\u001b[39;49mindex(level)\n\u001b[1;32m   <a href='file:///Users/alvaroybanez/opt/anaconda3/envs/botchestra/lib/python3.9/site-packages/pandas/core/indexes/multi.py?line=1529'>1530</a>\u001b[0m \u001b[39mexcept\u001b[39;00m \u001b[39mValueError\u001b[39;00m \u001b[39mas\u001b[39;00m err:\n",
      "\u001b[0;31mValueError\u001b[0m: 'symbol' is not in list",
      "\nThe above exception was the direct cause of the following exception:\n",
      "\u001b[0;31mKeyError\u001b[0m                                  Traceback (most recent call last)",
      "\u001b[1;32m/Users/alvaroybanez/Library/Mobile Documents/com~apple~CloudDocs/Documents/GitHub/botchestra/rsi_test.ipynb Cell 38'\u001b[0m in \u001b[0;36m<cell line: 1>\u001b[0;34m()\u001b[0m\n\u001b[0;32m----> <a href='vscode-notebook-cell:/Users/alvaroybanez/Library/Mobile%20Documents/com~apple~CloudDocs/Documents/GitHub/botchestra/rsi_test.ipynb#ch0000039?line=0'>1</a>\u001b[0m eth_mask \u001b[39m=\u001b[39m stats_df\u001b[39m.\u001b[39;49mindex\u001b[39m.\u001b[39;49mget_level_values(\u001b[39m'\u001b[39;49m\u001b[39msymbol\u001b[39;49m\u001b[39m'\u001b[39;49m) \u001b[39m==\u001b[39m \u001b[39m'\u001b[39m\u001b[39mETHUSDT\u001b[39m\u001b[39m'\u001b[39m\n\u001b[1;32m      <a href='vscode-notebook-cell:/Users/alvaroybanez/Library/Mobile%20Documents/com~apple~CloudDocs/Documents/GitHub/botchestra/rsi_test.ipynb#ch0000039?line=1'>2</a>\u001b[0m btc_mask \u001b[39m=\u001b[39m stats_df\u001b[39m.\u001b[39mindex\u001b[39m.\u001b[39mget_level_values(\u001b[39m'\u001b[39m\u001b[39msymbol\u001b[39m\u001b[39m'\u001b[39m) \u001b[39m==\u001b[39m \u001b[39m'\u001b[39m\u001b[39mBTCUSDT\u001b[39m\u001b[39m'\u001b[39m\n\u001b[1;32m      <a href='vscode-notebook-cell:/Users/alvaroybanez/Library/Mobile%20Documents/com~apple~CloudDocs/Documents/GitHub/botchestra/rsi_test.ipynb#ch0000039?line=2'>3</a>\u001b[0m pd\u001b[39m.\u001b[39mDataFrame({\n\u001b[1;32m      <a href='vscode-notebook-cell:/Users/alvaroybanez/Library/Mobile%20Documents/com~apple~CloudDocs/Documents/GitHub/botchestra/rsi_test.ipynb#ch0000039?line=3'>4</a>\u001b[0m     \u001b[39m'\u001b[39m\u001b[39mETHUSDT\u001b[39m\u001b[39m'\u001b[39m: stats_df[eth_mask][\u001b[39m'\u001b[39m\u001b[39mExpectancy\u001b[39m\u001b[39m'\u001b[39m]\u001b[39m.\u001b[39mvalues,\n\u001b[1;32m      <a href='vscode-notebook-cell:/Users/alvaroybanez/Library/Mobile%20Documents/com~apple~CloudDocs/Documents/GitHub/botchestra/rsi_test.ipynb#ch0000039?line=4'>5</a>\u001b[0m     \u001b[39m'\u001b[39m\u001b[39mBTCUSDT\u001b[39m\u001b[39m'\u001b[39m: stats_df[btc_mask][\u001b[39m'\u001b[39m\u001b[39mExpectancy\u001b[39m\u001b[39m'\u001b[39m]\u001b[39m.\u001b[39mvalues\n\u001b[1;32m      <a href='vscode-notebook-cell:/Users/alvaroybanez/Library/Mobile%20Documents/com~apple~CloudDocs/Documents/GitHub/botchestra/rsi_test.ipynb#ch0000039?line=5'>6</a>\u001b[0m })\u001b[39m.\u001b[39mvbt\u001b[39m.\u001b[39mhistplot(xaxis\u001b[39m=\u001b[39m\u001b[39mdict\u001b[39m(title\u001b[39m=\u001b[39m\u001b[39m\"\u001b[39m\u001b[39mExpectancy\u001b[39m\u001b[39m\"\u001b[39m))\u001b[39m.\u001b[39mshow_svg()\n",
      "File \u001b[0;32m~/opt/anaconda3/envs/botchestra/lib/python3.9/site-packages/pandas/core/indexes/multi.py:1698\u001b[0m, in \u001b[0;36mMultiIndex.get_level_values\u001b[0;34m(self, level)\u001b[0m\n\u001b[1;32m   <a href='file:///Users/alvaroybanez/opt/anaconda3/envs/botchestra/lib/python3.9/site-packages/pandas/core/indexes/multi.py?line=1649'>1650</a>\u001b[0m \u001b[39mdef\u001b[39;00m \u001b[39mget_level_values\u001b[39m(\u001b[39mself\u001b[39m, level):\n\u001b[1;32m   <a href='file:///Users/alvaroybanez/opt/anaconda3/envs/botchestra/lib/python3.9/site-packages/pandas/core/indexes/multi.py?line=1650'>1651</a>\u001b[0m     \u001b[39m\"\"\"\u001b[39;00m\n\u001b[1;32m   <a href='file:///Users/alvaroybanez/opt/anaconda3/envs/botchestra/lib/python3.9/site-packages/pandas/core/indexes/multi.py?line=1651'>1652</a>\u001b[0m \u001b[39m    Return vector of label values for requested level.\u001b[39;00m\n\u001b[1;32m   <a href='file:///Users/alvaroybanez/opt/anaconda3/envs/botchestra/lib/python3.9/site-packages/pandas/core/indexes/multi.py?line=1652'>1653</a>\u001b[0m \n\u001b[0;32m   (...)\u001b[0m\n\u001b[1;32m   <a href='file:///Users/alvaroybanez/opt/anaconda3/envs/botchestra/lib/python3.9/site-packages/pandas/core/indexes/multi.py?line=1695'>1696</a>\u001b[0m \u001b[39m    Float64Index([1.0, nan, 2.0], dtype='float64')\u001b[39;00m\n\u001b[1;32m   <a href='file:///Users/alvaroybanez/opt/anaconda3/envs/botchestra/lib/python3.9/site-packages/pandas/core/indexes/multi.py?line=1696'>1697</a>\u001b[0m \u001b[39m    \"\"\"\u001b[39;00m\n\u001b[0;32m-> <a href='file:///Users/alvaroybanez/opt/anaconda3/envs/botchestra/lib/python3.9/site-packages/pandas/core/indexes/multi.py?line=1697'>1698</a>\u001b[0m     level \u001b[39m=\u001b[39m \u001b[39mself\u001b[39;49m\u001b[39m.\u001b[39;49m_get_level_number(level)\n\u001b[1;32m   <a href='file:///Users/alvaroybanez/opt/anaconda3/envs/botchestra/lib/python3.9/site-packages/pandas/core/indexes/multi.py?line=1698'>1699</a>\u001b[0m     values \u001b[39m=\u001b[39m \u001b[39mself\u001b[39m\u001b[39m.\u001b[39m_get_level_values(level)\n\u001b[1;32m   <a href='file:///Users/alvaroybanez/opt/anaconda3/envs/botchestra/lib/python3.9/site-packages/pandas/core/indexes/multi.py?line=1699'>1700</a>\u001b[0m     \u001b[39mreturn\u001b[39;00m values\n",
      "File \u001b[0;32m~/opt/anaconda3/envs/botchestra/lib/python3.9/site-packages/pandas/core/indexes/multi.py:1532\u001b[0m, in \u001b[0;36mMultiIndex._get_level_number\u001b[0;34m(self, level)\u001b[0m\n\u001b[1;32m   <a href='file:///Users/alvaroybanez/opt/anaconda3/envs/botchestra/lib/python3.9/site-packages/pandas/core/indexes/multi.py?line=1529'>1530</a>\u001b[0m \u001b[39mexcept\u001b[39;00m \u001b[39mValueError\u001b[39;00m \u001b[39mas\u001b[39;00m err:\n\u001b[1;32m   <a href='file:///Users/alvaroybanez/opt/anaconda3/envs/botchestra/lib/python3.9/site-packages/pandas/core/indexes/multi.py?line=1530'>1531</a>\u001b[0m     \u001b[39mif\u001b[39;00m \u001b[39mnot\u001b[39;00m is_integer(level):\n\u001b[0;32m-> <a href='file:///Users/alvaroybanez/opt/anaconda3/envs/botchestra/lib/python3.9/site-packages/pandas/core/indexes/multi.py?line=1531'>1532</a>\u001b[0m         \u001b[39mraise\u001b[39;00m \u001b[39mKeyError\u001b[39;00m(\u001b[39mf\u001b[39m\u001b[39m\"\u001b[39m\u001b[39mLevel \u001b[39m\u001b[39m{\u001b[39;00mlevel\u001b[39m}\u001b[39;00m\u001b[39m not found\u001b[39m\u001b[39m\"\u001b[39m) \u001b[39mfrom\u001b[39;00m \u001b[39merr\u001b[39;00m\n\u001b[1;32m   <a href='file:///Users/alvaroybanez/opt/anaconda3/envs/botchestra/lib/python3.9/site-packages/pandas/core/indexes/multi.py?line=1532'>1533</a>\u001b[0m     \u001b[39melif\u001b[39;00m level \u001b[39m<\u001b[39m \u001b[39m0\u001b[39m:\n\u001b[1;32m   <a href='file:///Users/alvaroybanez/opt/anaconda3/envs/botchestra/lib/python3.9/site-packages/pandas/core/indexes/multi.py?line=1533'>1534</a>\u001b[0m         level \u001b[39m+\u001b[39m\u001b[39m=\u001b[39m \u001b[39mself\u001b[39m\u001b[39m.\u001b[39mnlevels\n",
      "\u001b[0;31mKeyError\u001b[0m: 'Level symbol not found'"
     ]
    }
   ],
   "source": []
  },
  {
   "cell_type": "code",
   "execution_count": null,
   "metadata": {},
   "outputs": [],
   "source": []
  }
 ],
 "metadata": {
  "interpreter": {
   "hash": "6dd0864a17b171c5548114af6770eaad14a8e9888425146417af10b16f7b96f7"
  },
  "kernelspec": {
   "display_name": "Python 3.9.0 ('botchestra')",
   "language": "python",
   "name": "python3"
  },
  "language_info": {
   "codemirror_mode": {
    "name": "ipython",
    "version": 3
   },
   "file_extension": ".py",
   "mimetype": "text/x-python",
   "name": "python",
   "nbconvert_exporter": "python",
   "pygments_lexer": "ipython3",
   "version": "3.9.0"
  },
  "orig_nbformat": 4
 },
 "nbformat": 4,
 "nbformat_minor": 2
}
